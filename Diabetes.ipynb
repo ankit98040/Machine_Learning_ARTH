{
 "cells": [
  {
   "cell_type": "code",
   "execution_count": 1,
   "metadata": {},
   "outputs": [],
   "source": [
    "import pandas as pd\n",
    "dataset = pd.read_csv('pima-indians-diabetes.data.csv', header=None)"
   ]
  },
  {
   "cell_type": "code",
   "execution_count": 2,
   "metadata": {},
   "outputs": [
    {
     "data": {
      "text/plain": [
       "Int64Index([0, 1, 2, 3, 4, 5, 6, 7, 8], dtype='int64')"
      ]
     },
     "execution_count": 2,
     "metadata": {},
     "output_type": "execute_result"
    }
   ],
   "source": [
    "dataset.columns"
   ]
  },
  {
   "cell_type": "code",
   "execution_count": 3,
   "metadata": {},
   "outputs": [],
   "source": [
    "y=dataset[8]"
   ]
  },
  {
   "cell_type": "code",
   "execution_count": 4,
   "metadata": {},
   "outputs": [],
   "source": [
    "X=dataset[[0,1,2,3,4,5,6,7]]"
   ]
  },
  {
   "cell_type": "code",
   "execution_count": 5,
   "metadata": {},
   "outputs": [
    {
     "name": "stderr",
     "output_type": "stream",
     "text": [
      "Using TensorFlow backend.\n",
      "/Users/ankit/opt/anaconda3/lib/python3.7/site-packages/tensorflow/python/framework/dtypes.py:516: FutureWarning: Passing (type, 1) or '1type' as a synonym of type is deprecated; in a future version of numpy, it will be understood as (type, (1,)) / '(1,)type'.\n",
      "  _np_qint8 = np.dtype([(\"qint8\", np.int8, 1)])\n",
      "/Users/ankit/opt/anaconda3/lib/python3.7/site-packages/tensorflow/python/framework/dtypes.py:517: FutureWarning: Passing (type, 1) or '1type' as a synonym of type is deprecated; in a future version of numpy, it will be understood as (type, (1,)) / '(1,)type'.\n",
      "  _np_quint8 = np.dtype([(\"quint8\", np.uint8, 1)])\n",
      "/Users/ankit/opt/anaconda3/lib/python3.7/site-packages/tensorflow/python/framework/dtypes.py:518: FutureWarning: Passing (type, 1) or '1type' as a synonym of type is deprecated; in a future version of numpy, it will be understood as (type, (1,)) / '(1,)type'.\n",
      "  _np_qint16 = np.dtype([(\"qint16\", np.int16, 1)])\n",
      "/Users/ankit/opt/anaconda3/lib/python3.7/site-packages/tensorflow/python/framework/dtypes.py:519: FutureWarning: Passing (type, 1) or '1type' as a synonym of type is deprecated; in a future version of numpy, it will be understood as (type, (1,)) / '(1,)type'.\n",
      "  _np_quint16 = np.dtype([(\"quint16\", np.uint16, 1)])\n",
      "/Users/ankit/opt/anaconda3/lib/python3.7/site-packages/tensorflow/python/framework/dtypes.py:520: FutureWarning: Passing (type, 1) or '1type' as a synonym of type is deprecated; in a future version of numpy, it will be understood as (type, (1,)) / '(1,)type'.\n",
      "  _np_qint32 = np.dtype([(\"qint32\", np.int32, 1)])\n",
      "/Users/ankit/opt/anaconda3/lib/python3.7/site-packages/tensorflow/python/framework/dtypes.py:525: FutureWarning: Passing (type, 1) or '1type' as a synonym of type is deprecated; in a future version of numpy, it will be understood as (type, (1,)) / '(1,)type'.\n",
      "  np_resource = np.dtype([(\"resource\", np.ubyte, 1)])\n",
      "/Users/ankit/opt/anaconda3/lib/python3.7/site-packages/tensorboard/compat/tensorflow_stub/dtypes.py:541: FutureWarning: Passing (type, 1) or '1type' as a synonym of type is deprecated; in a future version of numpy, it will be understood as (type, (1,)) / '(1,)type'.\n",
      "  _np_qint8 = np.dtype([(\"qint8\", np.int8, 1)])\n",
      "/Users/ankit/opt/anaconda3/lib/python3.7/site-packages/tensorboard/compat/tensorflow_stub/dtypes.py:542: FutureWarning: Passing (type, 1) or '1type' as a synonym of type is deprecated; in a future version of numpy, it will be understood as (type, (1,)) / '(1,)type'.\n",
      "  _np_quint8 = np.dtype([(\"quint8\", np.uint8, 1)])\n",
      "/Users/ankit/opt/anaconda3/lib/python3.7/site-packages/tensorboard/compat/tensorflow_stub/dtypes.py:543: FutureWarning: Passing (type, 1) or '1type' as a synonym of type is deprecated; in a future version of numpy, it will be understood as (type, (1,)) / '(1,)type'.\n",
      "  _np_qint16 = np.dtype([(\"qint16\", np.int16, 1)])\n",
      "/Users/ankit/opt/anaconda3/lib/python3.7/site-packages/tensorboard/compat/tensorflow_stub/dtypes.py:544: FutureWarning: Passing (type, 1) or '1type' as a synonym of type is deprecated; in a future version of numpy, it will be understood as (type, (1,)) / '(1,)type'.\n",
      "  _np_quint16 = np.dtype([(\"quint16\", np.uint16, 1)])\n",
      "/Users/ankit/opt/anaconda3/lib/python3.7/site-packages/tensorboard/compat/tensorflow_stub/dtypes.py:545: FutureWarning: Passing (type, 1) or '1type' as a synonym of type is deprecated; in a future version of numpy, it will be understood as (type, (1,)) / '(1,)type'.\n",
      "  _np_qint32 = np.dtype([(\"qint32\", np.int32, 1)])\n",
      "/Users/ankit/opt/anaconda3/lib/python3.7/site-packages/tensorboard/compat/tensorflow_stub/dtypes.py:550: FutureWarning: Passing (type, 1) or '1type' as a synonym of type is deprecated; in a future version of numpy, it will be understood as (type, (1,)) / '(1,)type'.\n",
      "  np_resource = np.dtype([(\"resource\", np.ubyte, 1)])\n"
     ]
    }
   ],
   "source": [
    "from keras.models import Sequential\n",
    "from keras.layers import Dense\n",
    "from keras.optimizers import Adam"
   ]
  },
  {
   "cell_type": "code",
   "execution_count": 6,
   "metadata": {},
   "outputs": [],
   "source": [
    "model = Sequential()"
   ]
  },
  {
   "cell_type": "code",
   "execution_count": 7,
   "metadata": {},
   "outputs": [],
   "source": [
    "model.add(Dense(units=10, input_dim=8, activation='relu'))"
   ]
  },
  {
   "cell_type": "code",
   "execution_count": 8,
   "metadata": {},
   "outputs": [
    {
     "name": "stdout",
     "output_type": "stream",
     "text": [
      "Model: \"sequential_1\"\n",
      "_________________________________________________________________\n",
      "Layer (type)                 Output Shape              Param #   \n",
      "=================================================================\n",
      "dense_1 (Dense)              (None, 10)                90        \n",
      "=================================================================\n",
      "Total params: 90\n",
      "Trainable params: 90\n",
      "Non-trainable params: 0\n",
      "_________________________________________________________________\n"
     ]
    }
   ],
   "source": [
    "model.summary()"
   ]
  },
  {
   "cell_type": "code",
   "execution_count": 9,
   "metadata": {},
   "outputs": [],
   "source": [
    "model.add(Dense(units=8, activation='relu'))\n",
    "model.add(Dense(units=16, activation='relu'))"
   ]
  },
  {
   "cell_type": "code",
   "execution_count": 10,
   "metadata": {},
   "outputs": [],
   "source": [
    "model.add(Dense(units=1, activation='sigmoid'))\n",
    "#op layer\n",
    "#sigmoid function if you have binary data"
   ]
  },
  {
   "cell_type": "code",
   "execution_count": 11,
   "metadata": {},
   "outputs": [
    {
     "name": "stdout",
     "output_type": "stream",
     "text": [
      "WARNING:tensorflow:From /Users/ankit/opt/anaconda3/lib/python3.7/site-packages/tensorflow/python/ops/nn_impl.py:180: add_dispatch_support.<locals>.wrapper (from tensorflow.python.ops.array_ops) is deprecated and will be removed in a future version.\n",
      "Instructions for updating:\n",
      "Use tf.where in 2.0, which has the same broadcast rule as np.where\n"
     ]
    }
   ],
   "source": [
    "model.compile(loss='binary_crossentropy', optimizer=Adam(learning_rate=0.0000001), metrics=['accuracy'])\n",
    "#model.compile(loss='binary_crossentropy', optimizer='adam', metrics=['accuracy'])"
   ]
  },
  {
   "cell_type": "code",
   "execution_count": 14,
   "metadata": {},
   "outputs": [
    {
     "name": "stdout",
     "output_type": "stream",
     "text": [
      "Epoch 1/160\n",
      "768/768 [==============================] - 0s 117us/step - loss: 18.1031 - accuracy: 0.6510\n",
      "Epoch 2/160\n",
      "768/768 [==============================] - 0s 68us/step - loss: 18.1021 - accuracy: 0.6510\n",
      "Epoch 3/160\n",
      "768/768 [==============================] - 0s 59us/step - loss: 18.1010 - accuracy: 0.6510\n",
      "Epoch 4/160\n",
      "768/768 [==============================] - 0s 64us/step - loss: 18.1000 - accuracy: 0.6510\n",
      "Epoch 5/160\n",
      "768/768 [==============================] - 0s 60us/step - loss: 18.0989 - accuracy: 0.6510\n",
      "Epoch 6/160\n",
      "768/768 [==============================] - 0s 63us/step - loss: 18.0978 - accuracy: 0.6510\n",
      "Epoch 7/160\n",
      "768/768 [==============================] - 0s 56us/step - loss: 18.0967 - accuracy: 0.6510\n",
      "Epoch 8/160\n",
      "768/768 [==============================] - 0s 56us/step - loss: 18.0957 - accuracy: 0.6510\n",
      "Epoch 9/160\n",
      "768/768 [==============================] - 0s 60us/step - loss: 18.0946 - accuracy: 0.6510\n",
      "Epoch 10/160\n",
      "768/768 [==============================] - 0s 55us/step - loss: 18.0935 - accuracy: 0.6510\n",
      "Epoch 11/160\n",
      "768/768 [==============================] - 0s 52us/step - loss: 18.0924 - accuracy: 0.6510\n",
      "Epoch 12/160\n",
      "768/768 [==============================] - 0s 54us/step - loss: 18.0913 - accuracy: 0.6510\n",
      "Epoch 13/160\n",
      "768/768 [==============================] - 0s 57us/step - loss: 18.0901 - accuracy: 0.6510\n",
      "Epoch 14/160\n",
      "768/768 [==============================] - 0s 52us/step - loss: 18.0890 - accuracy: 0.6510\n",
      "Epoch 15/160\n",
      "768/768 [==============================] - 0s 57us/step - loss: 18.0879 - accuracy: 0.6510\n",
      "Epoch 16/160\n",
      "768/768 [==============================] - 0s 54us/step - loss: 18.0867 - accuracy: 0.6510\n",
      "Epoch 17/160\n",
      "768/768 [==============================] - 0s 56us/step - loss: 18.0856 - accuracy: 0.6510\n",
      "Epoch 18/160\n",
      "768/768 [==============================] - 0s 59us/step - loss: 18.0844 - accuracy: 0.6510\n",
      "Epoch 19/160\n",
      "768/768 [==============================] - 0s 54us/step - loss: 18.0833 - accuracy: 0.6510\n",
      "Epoch 20/160\n",
      "768/768 [==============================] - 0s 60us/step - loss: 18.0821 - accuracy: 0.6510\n",
      "Epoch 21/160\n",
      "768/768 [==============================] - 0s 58us/step - loss: 18.0810 - accuracy: 0.6510\n",
      "Epoch 22/160\n",
      "768/768 [==============================] - 0s 59us/step - loss: 18.0798 - accuracy: 0.6510\n",
      "Epoch 23/160\n",
      "768/768 [==============================] - 0s 54us/step - loss: 18.0786 - accuracy: 0.6510\n",
      "Epoch 24/160\n",
      "768/768 [==============================] - 0s 57us/step - loss: 18.0774 - accuracy: 0.6510\n",
      "Epoch 25/160\n",
      "768/768 [==============================] - 0s 66us/step - loss: 18.0763 - accuracy: 0.6510\n",
      "Epoch 26/160\n",
      "768/768 [==============================] - 0s 61us/step - loss: 18.0750 - accuracy: 0.6510\n",
      "Epoch 27/160\n",
      "768/768 [==============================] - 0s 59us/step - loss: 18.0739 - accuracy: 0.6510\n",
      "Epoch 28/160\n",
      "768/768 [==============================] - 0s 56us/step - loss: 18.0726 - accuracy: 0.6510\n",
      "Epoch 29/160\n",
      "768/768 [==============================] - 0s 56us/step - loss: 18.0714 - accuracy: 0.6510\n",
      "Epoch 30/160\n",
      "768/768 [==============================] - 0s 60us/step - loss: 18.0702 - accuracy: 0.6510\n",
      "Epoch 31/160\n",
      "768/768 [==============================] - 0s 59us/step - loss: 18.0690 - accuracy: 0.6510\n",
      "Epoch 32/160\n",
      "768/768 [==============================] - 0s 55us/step - loss: 18.0678 - accuracy: 0.6510\n",
      "Epoch 33/160\n",
      "768/768 [==============================] - 0s 63us/step - loss: 18.0666 - accuracy: 0.6510\n",
      "Epoch 34/160\n",
      "768/768 [==============================] - 0s 83us/step - loss: 18.0653 - accuracy: 0.6510\n",
      "Epoch 35/160\n",
      "768/768 [==============================] - 0s 79us/step - loss: 18.0641 - accuracy: 0.6510\n",
      "Epoch 36/160\n",
      "768/768 [==============================] - 0s 63us/step - loss: 18.0628 - accuracy: 0.6510\n",
      "Epoch 37/160\n",
      "768/768 [==============================] - 0s 61us/step - loss: 18.0616 - accuracy: 0.6510\n",
      "Epoch 38/160\n",
      "768/768 [==============================] - 0s 57us/step - loss: 18.0603 - accuracy: 0.6510\n",
      "Epoch 39/160\n",
      "768/768 [==============================] - 0s 59us/step - loss: 18.0591 - accuracy: 0.6510\n",
      "Epoch 40/160\n",
      "768/768 [==============================] - 0s 72us/step - loss: 18.0578 - accuracy: 0.6510\n",
      "Epoch 41/160\n",
      "768/768 [==============================] - 0s 60us/step - loss: 18.0566 - accuracy: 0.6510\n",
      "Epoch 42/160\n",
      "768/768 [==============================] - 0s 55us/step - loss: 18.0553 - accuracy: 0.6510\n",
      "Epoch 43/160\n",
      "768/768 [==============================] - 0s 61us/step - loss: 18.0540 - accuracy: 0.6510\n",
      "Epoch 44/160\n",
      "768/768 [==============================] - 0s 56us/step - loss: 18.0527 - accuracy: 0.6510\n",
      "Epoch 45/160\n",
      "768/768 [==============================] - 0s 56us/step - loss: 18.0514 - accuracy: 0.6510\n",
      "Epoch 46/160\n",
      "768/768 [==============================] - 0s 79us/step - loss: 18.0501 - accuracy: 0.6510\n",
      "Epoch 47/160\n",
      "768/768 [==============================] - 0s 74us/step - loss: 18.0489 - accuracy: 0.6510\n",
      "Epoch 48/160\n",
      "768/768 [==============================] - 0s 68us/step - loss: 18.0476 - accuracy: 0.6510\n",
      "Epoch 49/160\n",
      "768/768 [==============================] - 0s 62us/step - loss: 18.0463 - accuracy: 0.6510\n",
      "Epoch 50/160\n",
      "768/768 [==============================] - 0s 63us/step - loss: 18.0450 - accuracy: 0.6510\n",
      "Epoch 51/160\n",
      "768/768 [==============================] - 0s 66us/step - loss: 18.0436 - accuracy: 0.6510\n",
      "Epoch 52/160\n",
      "768/768 [==============================] - 0s 60us/step - loss: 18.0423 - accuracy: 0.6510\n",
      "Epoch 53/160\n",
      "768/768 [==============================] - 0s 65us/step - loss: 18.0410 - accuracy: 0.6510\n",
      "Epoch 54/160\n",
      "768/768 [==============================] - 0s 63us/step - loss: 18.0397 - accuracy: 0.6510\n",
      "Epoch 55/160\n",
      "768/768 [==============================] - 0s 59us/step - loss: 18.0384 - accuracy: 0.6510\n",
      "Epoch 56/160\n",
      "768/768 [==============================] - 0s 62us/step - loss: 18.0370 - accuracy: 0.6510\n",
      "Epoch 57/160\n",
      "768/768 [==============================] - 0s 66us/step - loss: 18.0357 - accuracy: 0.6510\n",
      "Epoch 58/160\n",
      "768/768 [==============================] - 0s 57us/step - loss: 18.0344 - accuracy: 0.6510\n",
      "Epoch 59/160\n",
      "768/768 [==============================] - 0s 55us/step - loss: 18.0331 - accuracy: 0.6510\n",
      "Epoch 60/160\n",
      "768/768 [==============================] - 0s 57us/step - loss: 18.0317 - accuracy: 0.6510\n",
      "Epoch 61/160\n",
      "768/768 [==============================] - 0s 56us/step - loss: 18.0304 - accuracy: 0.6510\n",
      "Epoch 62/160\n",
      "768/768 [==============================] - 0s 51us/step - loss: 18.0291 - accuracy: 0.6510\n",
      "Epoch 63/160\n",
      "768/768 [==============================] - 0s 51us/step - loss: 18.0277 - accuracy: 0.6510\n",
      "Epoch 64/160\n",
      "768/768 [==============================] - 0s 50us/step - loss: 18.0264 - accuracy: 0.6510\n",
      "Epoch 65/160\n",
      "768/768 [==============================] - 0s 55us/step - loss: 18.0250 - accuracy: 0.6510\n",
      "Epoch 66/160\n",
      "768/768 [==============================] - 0s 54us/step - loss: 18.0236 - accuracy: 0.6510\n",
      "Epoch 67/160\n",
      "768/768 [==============================] - 0s 57us/step - loss: 18.0223 - accuracy: 0.6510\n",
      "Epoch 68/160\n",
      "768/768 [==============================] - 0s 56us/step - loss: 18.0209 - accuracy: 0.6510\n",
      "Epoch 69/160\n",
      "768/768 [==============================] - 0s 55us/step - loss: 18.0195 - accuracy: 0.6510\n",
      "Epoch 70/160\n",
      "768/768 [==============================] - 0s 57us/step - loss: 18.0182 - accuracy: 0.6510\n",
      "Epoch 71/160\n",
      "768/768 [==============================] - 0s 56us/step - loss: 18.0168 - accuracy: 0.6510\n",
      "Epoch 72/160\n",
      "768/768 [==============================] - 0s 57us/step - loss: 18.0154 - accuracy: 0.6510\n",
      "Epoch 73/160\n",
      "768/768 [==============================] - 0s 56us/step - loss: 18.0141 - accuracy: 0.6510\n",
      "Epoch 74/160\n",
      "768/768 [==============================] - 0s 56us/step - loss: 18.0127 - accuracy: 0.6510\n",
      "Epoch 75/160\n",
      "768/768 [==============================] - 0s 56us/step - loss: 18.0113 - accuracy: 0.6510\n",
      "Epoch 76/160\n",
      "768/768 [==============================] - 0s 57us/step - loss: 18.0099 - accuracy: 0.6510\n",
      "Epoch 77/160\n",
      "768/768 [==============================] - 0s 57us/step - loss: 18.0086 - accuracy: 0.6510\n",
      "Epoch 78/160\n",
      "768/768 [==============================] - 0s 55us/step - loss: 18.0071 - accuracy: 0.6510\n",
      "Epoch 79/160\n"
     ]
    },
    {
     "name": "stdout",
     "output_type": "stream",
     "text": [
      "768/768 [==============================] - 0s 54us/step - loss: 18.0057 - accuracy: 0.6510\n",
      "Epoch 80/160\n",
      "768/768 [==============================] - 0s 54us/step - loss: 18.0044 - accuracy: 0.6510\n",
      "Epoch 81/160\n",
      "768/768 [==============================] - 0s 52us/step - loss: 18.0030 - accuracy: 0.6510\n",
      "Epoch 82/160\n",
      "768/768 [==============================] - 0s 53us/step - loss: 18.0016 - accuracy: 0.6510\n",
      "Epoch 83/160\n",
      "768/768 [==============================] - 0s 52us/step - loss: 18.0002 - accuracy: 0.6510\n",
      "Epoch 84/160\n",
      "768/768 [==============================] - 0s 54us/step - loss: 17.9988 - accuracy: 0.6510\n",
      "Epoch 85/160\n",
      "768/768 [==============================] - 0s 53us/step - loss: 17.9974 - accuracy: 0.6510\n",
      "Epoch 86/160\n",
      "768/768 [==============================] - 0s 55us/step - loss: 17.9960 - accuracy: 0.6510\n",
      "Epoch 87/160\n",
      "768/768 [==============================] - 0s 56us/step - loss: 17.9946 - accuracy: 0.6510\n",
      "Epoch 88/160\n",
      "768/768 [==============================] - 0s 54us/step - loss: 17.9931 - accuracy: 0.6510\n",
      "Epoch 89/160\n",
      "768/768 [==============================] - 0s 54us/step - loss: 17.9918 - accuracy: 0.6510\n",
      "Epoch 90/160\n",
      "768/768 [==============================] - 0s 54us/step - loss: 17.9903 - accuracy: 0.6510\n",
      "Epoch 91/160\n",
      "768/768 [==============================] - 0s 54us/step - loss: 17.9889 - accuracy: 0.6510\n",
      "Epoch 92/160\n",
      "768/768 [==============================] - 0s 54us/step - loss: 17.9875 - accuracy: 0.6510\n",
      "Epoch 93/160\n",
      "768/768 [==============================] - 0s 59us/step - loss: 17.9861 - accuracy: 0.6510\n",
      "Epoch 94/160\n",
      "768/768 [==============================] - 0s 54us/step - loss: 17.9846 - accuracy: 0.6510\n",
      "Epoch 95/160\n",
      "768/768 [==============================] - 0s 56us/step - loss: 17.9832 - accuracy: 0.6510\n",
      "Epoch 96/160\n",
      "768/768 [==============================] - 0s 57us/step - loss: 17.9818 - accuracy: 0.6510\n",
      "Epoch 97/160\n",
      "768/768 [==============================] - 0s 55us/step - loss: 17.9804 - accuracy: 0.6510\n",
      "Epoch 98/160\n",
      "768/768 [==============================] - 0s 53us/step - loss: 17.9790 - accuracy: 0.6510\n",
      "Epoch 99/160\n",
      "768/768 [==============================] - 0s 54us/step - loss: 17.9775 - accuracy: 0.6510\n",
      "Epoch 100/160\n",
      "768/768 [==============================] - 0s 53us/step - loss: 17.9761 - accuracy: 0.6510\n",
      "Epoch 101/160\n",
      "768/768 [==============================] - 0s 56us/step - loss: 17.9747 - accuracy: 0.6510\n",
      "Epoch 102/160\n",
      "768/768 [==============================] - 0s 54us/step - loss: 17.9732 - accuracy: 0.6510\n",
      "Epoch 103/160\n",
      "768/768 [==============================] - 0s 54us/step - loss: 17.9718 - accuracy: 0.6510\n",
      "Epoch 104/160\n",
      "768/768 [==============================] - 0s 53us/step - loss: 17.9704 - accuracy: 0.6510\n",
      "Epoch 105/160\n",
      "768/768 [==============================] - 0s 54us/step - loss: 17.9689 - accuracy: 0.6510\n",
      "Epoch 106/160\n",
      "768/768 [==============================] - 0s 56us/step - loss: 17.9675 - accuracy: 0.6510\n",
      "Epoch 107/160\n",
      "768/768 [==============================] - 0s 55us/step - loss: 17.9661 - accuracy: 0.6510\n",
      "Epoch 108/160\n",
      "768/768 [==============================] - 0s 56us/step - loss: 17.9646 - accuracy: 0.6510\n",
      "Epoch 109/160\n",
      "768/768 [==============================] - 0s 57us/step - loss: 17.9632 - accuracy: 0.6510\n",
      "Epoch 110/160\n",
      "768/768 [==============================] - 0s 54us/step - loss: 17.9617 - accuracy: 0.6510\n",
      "Epoch 111/160\n",
      "768/768 [==============================] - 0s 53us/step - loss: 17.9603 - accuracy: 0.6510\n",
      "Epoch 112/160\n",
      "768/768 [==============================] - 0s 53us/step - loss: 17.9588 - accuracy: 0.6510\n",
      "Epoch 113/160\n",
      "768/768 [==============================] - 0s 52us/step - loss: 17.9574 - accuracy: 0.6510\n",
      "Epoch 114/160\n",
      "768/768 [==============================] - 0s 56us/step - loss: 17.9560 - accuracy: 0.6510\n",
      "Epoch 115/160\n",
      "768/768 [==============================] - 0s 56us/step - loss: 17.9545 - accuracy: 0.6510\n",
      "Epoch 116/160\n",
      "768/768 [==============================] - 0s 56us/step - loss: 17.9531 - accuracy: 0.6510\n",
      "Epoch 117/160\n",
      "768/768 [==============================] - 0s 54us/step - loss: 17.9516 - accuracy: 0.6510\n",
      "Epoch 118/160\n",
      "768/768 [==============================] - 0s 53us/step - loss: 17.9502 - accuracy: 0.6510\n",
      "Epoch 119/160\n",
      "768/768 [==============================] - 0s 60us/step - loss: 17.9487 - accuracy: 0.6510\n",
      "Epoch 120/160\n",
      "768/768 [==============================] - 0s 60us/step - loss: 17.9472 - accuracy: 0.6510\n",
      "Epoch 121/160\n",
      "768/768 [==============================] - 0s 54us/step - loss: 17.9458 - accuracy: 0.6510\n",
      "Epoch 122/160\n",
      "768/768 [==============================] - 0s 59us/step - loss: 17.9443 - accuracy: 0.6510\n",
      "Epoch 123/160\n",
      "768/768 [==============================] - 0s 58us/step - loss: 17.9429 - accuracy: 0.6510\n",
      "Epoch 124/160\n",
      "768/768 [==============================] - 0s 53us/step - loss: 17.9414 - accuracy: 0.6510\n",
      "Epoch 125/160\n",
      "768/768 [==============================] - 0s 54us/step - loss: 17.9399 - accuracy: 0.6510\n",
      "Epoch 126/160\n",
      "768/768 [==============================] - 0s 54us/step - loss: 17.9385 - accuracy: 0.6510\n",
      "Epoch 127/160\n",
      "768/768 [==============================] - 0s 54us/step - loss: 17.9370 - accuracy: 0.6510\n",
      "Epoch 128/160\n",
      "768/768 [==============================] - 0s 53us/step - loss: 17.9356 - accuracy: 0.6510\n",
      "Epoch 129/160\n",
      "768/768 [==============================] - 0s 54us/step - loss: 17.9341 - accuracy: 0.6510\n",
      "Epoch 130/160\n",
      "768/768 [==============================] - 0s 55us/step - loss: 17.9326 - accuracy: 0.6510\n",
      "Epoch 131/160\n",
      "768/768 [==============================] - 0s 52us/step - loss: 17.9312 - accuracy: 0.6510\n",
      "Epoch 132/160\n",
      "768/768 [==============================] - 0s 55us/step - loss: 17.9297 - accuracy: 0.6510\n",
      "Epoch 133/160\n",
      "768/768 [==============================] - 0s 53us/step - loss: 17.9282 - accuracy: 0.6510\n",
      "Epoch 134/160\n",
      "768/768 [==============================] - 0s 56us/step - loss: 17.9268 - accuracy: 0.6510\n",
      "Epoch 135/160\n",
      "768/768 [==============================] - 0s 54us/step - loss: 17.9253 - accuracy: 0.6510\n",
      "Epoch 136/160\n",
      "768/768 [==============================] - 0s 55us/step - loss: 17.9238 - accuracy: 0.6510\n",
      "Epoch 137/160\n",
      "768/768 [==============================] - 0s 54us/step - loss: 17.9224 - accuracy: 0.6510\n",
      "Epoch 138/160\n",
      "768/768 [==============================] - 0s 54us/step - loss: 17.9209 - accuracy: 0.6510\n",
      "Epoch 139/160\n",
      "768/768 [==============================] - 0s 55us/step - loss: 17.9194 - accuracy: 0.6510\n",
      "Epoch 140/160\n",
      "768/768 [==============================] - 0s 55us/step - loss: 17.9180 - accuracy: 0.6510\n",
      "Epoch 141/160\n",
      "768/768 [==============================] - 0s 58us/step - loss: 17.9165 - accuracy: 0.6510\n",
      "Epoch 142/160\n",
      "768/768 [==============================] - 0s 59us/step - loss: 17.9150 - accuracy: 0.6510\n",
      "Epoch 143/160\n",
      "768/768 [==============================] - 0s 61us/step - loss: 17.9135 - accuracy: 0.6510\n",
      "Epoch 144/160\n",
      "768/768 [==============================] - 0s 59us/step - loss: 17.9121 - accuracy: 0.6510\n",
      "Epoch 145/160\n",
      "768/768 [==============================] - 0s 55us/step - loss: 17.9106 - accuracy: 0.6510\n",
      "Epoch 146/160\n",
      "768/768 [==============================] - 0s 56us/step - loss: 17.9091 - accuracy: 0.6510\n",
      "Epoch 147/160\n",
      "768/768 [==============================] - 0s 59us/step - loss: 17.9076 - accuracy: 0.6510\n",
      "Epoch 148/160\n",
      "768/768 [==============================] - 0s 57us/step - loss: 17.9061 - accuracy: 0.6510\n",
      "Epoch 149/160\n",
      "768/768 [==============================] - 0s 56us/step - loss: 17.9047 - accuracy: 0.6510\n",
      "Epoch 150/160\n",
      "768/768 [==============================] - 0s 57us/step - loss: 17.9032 - accuracy: 0.6510\n",
      "Epoch 151/160\n",
      "768/768 [==============================] - 0s 56us/step - loss: 17.9017 - accuracy: 0.6510\n",
      "Epoch 152/160\n",
      "768/768 [==============================] - 0s 59us/step - loss: 17.9003 - accuracy: 0.6510\n",
      "Epoch 153/160\n",
      "768/768 [==============================] - 0s 58us/step - loss: 17.8988 - accuracy: 0.6510\n",
      "Epoch 154/160\n",
      "768/768 [==============================] - 0s 56us/step - loss: 17.8973 - accuracy: 0.6510\n",
      "Epoch 155/160\n",
      "768/768 [==============================] - 0s 74us/step - loss: 17.8958 - accuracy: 0.6510\n",
      "Epoch 156/160\n",
      "768/768 [==============================] - 0s 57us/step - loss: 17.8944 - accuracy: 0.6510\n",
      "Epoch 157/160\n"
     ]
    },
    {
     "name": "stdout",
     "output_type": "stream",
     "text": [
      "768/768 [==============================] - 0s 55us/step - loss: 17.8929 - accuracy: 0.6510\n",
      "Epoch 158/160\n",
      "768/768 [==============================] - 0s 54us/step - loss: 17.8914 - accuracy: 0.6510\n",
      "Epoch 159/160\n",
      "768/768 [==============================] - 0s 53us/step - loss: 17.8899 - accuracy: 0.6510\n",
      "Epoch 160/160\n",
      "768/768 [==============================] - 0s 53us/step - loss: 17.8884 - accuracy: 0.6510\n"
     ]
    },
    {
     "data": {
      "text/plain": [
       "<keras.callbacks.callbacks.History at 0x7fae8992a4d0>"
      ]
     },
     "execution_count": 14,
     "metadata": {},
     "output_type": "execute_result"
    }
   ],
   "source": [
    "model.fit(X,y, epochs=160)"
   ]
  },
  {
   "cell_type": "code",
   "execution_count": 15,
   "metadata": {},
   "outputs": [],
   "source": [
    "#exporting the model\n",
    "\n",
    "import joblib"
   ]
  },
  {
   "cell_type": "code",
   "execution_count": 16,
   "metadata": {},
   "outputs": [
    {
     "data": {
      "text/plain": [
       "['diabetes.pk1']"
      ]
     },
     "execution_count": 16,
     "metadata": {},
     "output_type": "execute_result"
    }
   ],
   "source": [
    "joblib.dump(model, 'diabetes.pk1')"
   ]
  },
  {
   "cell_type": "code",
   "execution_count": null,
   "metadata": {},
   "outputs": [],
   "source": []
  }
 ],
 "metadata": {
  "kernelspec": {
   "display_name": "Python 3",
   "language": "python",
   "name": "python3"
  },
  "language_info": {
   "codemirror_mode": {
    "name": "ipython",
    "version": 3
   },
   "file_extension": ".py",
   "mimetype": "text/x-python",
   "name": "python",
   "nbconvert_exporter": "python",
   "pygments_lexer": "ipython3",
   "version": "3.7.6"
  }
 },
 "nbformat": 4,
 "nbformat_minor": 4
}
